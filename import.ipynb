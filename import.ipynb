{
 "cells": [
  {
   "cell_type": "markdown",
   "id": "fatty-johnston",
   "metadata": {},
   "source": [
    "### 1. import"
   ]
  },
  {
   "cell_type": "markdown",
   "id": "abroad-duplicate",
   "metadata": {},
   "source": [
    "#### 1. how to"
   ]
  },
  {
   "cell_type": "code",
   "execution_count": 2,
   "id": "polished-county",
   "metadata": {},
   "outputs": [
    {
     "name": "stdout",
     "output_type": "stream",
     "text": [
      "3.141592653589793\n",
      "3.0\n"
     ]
    }
   ],
   "source": [
    "import math\n",
    "\n",
    "print(math.pi)\n",
    "print(math.sqrt(9))"
   ]
  },
  {
   "cell_type": "markdown",
   "id": "literary-cargo",
   "metadata": {},
   "source": [
    "#### 2. import module as name"
   ]
  },
  {
   "cell_type": "code",
   "execution_count": 3,
   "id": "prescription-hobby",
   "metadata": {},
   "outputs": [
    {
     "name": "stdout",
     "output_type": "stream",
     "text": [
      "3.141592653589793\n",
      "3.0\n"
     ]
    }
   ],
   "source": [
    "import math as m\n",
    "\n",
    "print(m.pi) # == math.pi\n",
    "print(m.sqrt(9))"
   ]
  },
  {
   "cell_type": "markdown",
   "id": "active-think",
   "metadata": {},
   "source": [
    "#### 3. from module import var,func,class,*"
   ]
  },
  {
   "cell_type": "code",
   "execution_count": 4,
   "id": "backed-marks",
   "metadata": {},
   "outputs": [
    {
     "name": "stdout",
     "output_type": "stream",
     "text": [
      "3.141592653589793\n",
      "3.0\n"
     ]
    }
   ],
   "source": [
    "from math import pi,sqrt\n",
    "\n",
    "print(pi)\n",
    "print(sqrt(9))"
   ]
  },
  {
   "cell_type": "code",
   "execution_count": 5,
   "id": "disturbed-rocket",
   "metadata": {},
   "outputs": [
    {
     "name": "stdout",
     "output_type": "stream",
     "text": [
      "3.141592653589793\n",
      "3.0\n"
     ]
    }
   ],
   "source": [
    "from math import *\n",
    "print(pi)\n",
    "print(sqrt(9))"
   ]
  }
 ],
 "metadata": {
  "kernelspec": {
   "display_name": "Python 3",
   "language": "python",
   "name": "python3"
  },
  "language_info": {
   "codemirror_mode": {
    "name": "ipython",
    "version": 3
   },
   "file_extension": ".py",
   "mimetype": "text/x-python",
   "name": "python",
   "nbconvert_exporter": "python",
   "pygments_lexer": "ipython3",
   "version": "3.9.2"
  }
 },
 "nbformat": 4,
 "nbformat_minor": 5
}
