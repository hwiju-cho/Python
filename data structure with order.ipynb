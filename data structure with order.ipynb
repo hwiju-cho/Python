{
 "cells": [
  {
   "cell_type": "markdown",
   "id": "subtle-watts",
   "metadata": {},
   "source": [
    "### data structure with order"
   ]
  },
  {
   "cell_type": "markdown",
   "id": "determined-might",
   "metadata": {},
   "source": [
    "#### 1. str"
   ]
  },
  {
   "cell_type": "code",
   "execution_count": 2,
   "id": "strange-tract",
   "metadata": {},
   "outputs": [
    {
     "name": "stdout",
     "output_type": "stream",
     "text": [
      "h\n",
      "hell\n",
      "o\n",
      "eo\n",
      "olleh\n"
     ]
    }
   ],
   "source": [
    "a = 'hello'\n",
    "\n",
    "print(a[0])\n",
    "print(a[0:4])\n",
    "print(a[-1])\n",
    "\n",
    "print(a[1::3])\n",
    "print(a[::-1])"
   ]
  },
  {
   "cell_type": "markdown",
   "id": "median-black",
   "metadata": {},
   "source": [
    "#### 1.1 in"
   ]
  },
  {
   "cell_type": "code",
   "execution_count": 9,
   "id": "double-whale",
   "metadata": {},
   "outputs": [
    {
     "name": "stdout",
     "output_type": "stream",
     "text": [
      "True\n",
      "True\n",
      "False\n"
     ]
    }
   ],
   "source": [
    "a = \"Thank You For The Good Times\"\n",
    "print(\"Good\" in a)\n",
    "print(\"F\" in a)\n",
    "print(\"I\" in a)"
   ]
  },
  {
   "cell_type": "markdown",
   "id": "fifty-blast",
   "metadata": {},
   "source": [
    "#### 1.2 .find()"
   ]
  },
  {
   "cell_type": "code",
   "execution_count": 10,
   "id": "editorial-mystery",
   "metadata": {},
   "outputs": [
    {
     "name": "stdout",
     "output_type": "stream",
     "text": [
      "1\n",
      "0\n",
      "-1\n",
      "0\n"
     ]
    }
   ],
   "source": [
    "a = \"Thank You For The Good Times\"\n",
    "\n",
    "print(a.find('h'))\n",
    "print(a.find('T')) # return first place\n",
    "print(a.find('z')) # return -1 when given string doesn't exist\n",
    "print(a.find('Thank'))"
   ]
  },
  {
   "cell_type": "markdown",
   "id": "purple-broadcast",
   "metadata": {},
   "source": [
    "#### 1.3 .split(i)\n",
    "      : split string by i and return in list"
   ]
  },
  {
   "cell_type": "code",
   "execution_count": 15,
   "id": "dressed-period",
   "metadata": {},
   "outputs": [
    {
     "name": "stdout",
     "output_type": "stream",
     "text": [
      "['ba', 'a', 'a']\n",
      "['Thank', 'You', 'For', 'The', 'Good', 'Times']\n",
      "['Thank', 'You', 'For', 'The', 'Good', 'Times']\n"
     ]
    }
   ],
   "source": [
    "b = 'banana'\n",
    "print(b.split('n'))\n",
    "\n",
    "a = \"Thank You For The Good Times\"\n",
    "print(a.split(' '))\n",
    "print(a.split())"
   ]
  },
  {
   "cell_type": "markdown",
   "id": "together-olive",
   "metadata": {},
   "source": [
    "#### 1.4 .join(list)"
   ]
  },
  {
   "cell_type": "code",
   "execution_count": 19,
   "id": "korean-classics",
   "metadata": {},
   "outputs": [
    {
     "name": "stdout",
     "output_type": "stream",
     "text": [
      "cat&dog\n",
      "banana\n"
     ]
    }
   ],
   "source": [
    "li = ['cat', 'dog']\n",
    "print('&'.join(li))\n",
    "\n",
    "s = ['b','a','n','a','n','a']\n",
    "print(''.join(s))"
   ]
  },
  {
   "cell_type": "markdown",
   "id": "developmental-quest",
   "metadata": {},
   "source": [
    "#### 2. list"
   ]
  },
  {
   "cell_type": "code",
   "execution_count": 20,
   "id": "manual-beijing",
   "metadata": {},
   "outputs": [],
   "source": [
    "li_1 = [] #empty list\n",
    "li_2 = ['a','b']\n",
    "li_3 = ['a',3]\n",
    "li_4 = ['a',3,[]]"
   ]
  },
  {
   "cell_type": "code",
   "execution_count": 3,
   "id": "trying-russell",
   "metadata": {},
   "outputs": [
    {
     "name": "stdout",
     "output_type": "stream",
     "text": [
      "b\n",
      "c\n"
     ]
    }
   ],
   "source": [
    "li_5 = [['a','b'],['c','d']]\n",
    "print(li_5[0][1])\n",
    "print(li_5[1][0])"
   ]
  },
  {
   "cell_type": "code",
   "execution_count": 45,
   "id": "internal-glenn",
   "metadata": {},
   "outputs": [
    {
     "name": "stdout",
     "output_type": "stream",
     "text": [
      "banana\n",
      "melon\n",
      "['banana', 'apple', 'cherry']\n",
      "['banana', 'apple', 'cherry']\n",
      "['apple', 'melon']\n",
      "['melon', 'cherry', 'apple', 'banana']\n"
     ]
    }
   ],
   "source": [
    "fruits = ['banana', 'apple','cherry','melon']\n",
    "\n",
    "print(fruits[0])\n",
    "print(fruits[-1])\n",
    "\n",
    "print(fruits[0:3])\n",
    "print(fruits[:3])\n",
    "\n",
    "print(fruits[1::2])\n",
    "\n",
    "print(fruits[::-1])"
   ]
  },
  {
   "cell_type": "markdown",
   "id": "automated-profile",
   "metadata": {},
   "source": [
    "#### 2.1 sort(), sorted()"
   ]
  },
  {
   "cell_type": "code",
   "execution_count": 24,
   "id": "retained-politics",
   "metadata": {},
   "outputs": [
    {
     "name": "stdout",
     "output_type": "stream",
     "text": [
      "['apple', 'banana', 'cherry', 'melon']\n",
      "None\n"
     ]
    }
   ],
   "source": [
    "# 1. sort()\n",
    "fruits = ['banana', 'apple','cherry','melon']\n",
    "\n",
    "fruits.sort()\n",
    "print(fruits) # fruits changed!\n",
    "\n",
    "print(fruits.sort()) # None"
   ]
  },
  {
   "cell_type": "code",
   "execution_count": 23,
   "id": "straight-phrase",
   "metadata": {},
   "outputs": [
    {
     "name": "stdout",
     "output_type": "stream",
     "text": [
      "['apple', 'banana', 'cherry', 'melon']\n",
      "['banana', 'apple', 'cherry', 'melon']\n"
     ]
    }
   ],
   "source": [
    "# 2. sorted()\n",
    "fruits = ['banana', 'apple','cherry','melon']\n",
    "\n",
    "print(sorted(fruits))\n",
    "print(fruits)"
   ]
  },
  {
   "cell_type": "markdown",
   "id": "later-jacket",
   "metadata": {},
   "source": [
    "#### 2.2 .append(item)"
   ]
  },
  {
   "cell_type": "code",
   "execution_count": 25,
   "id": "helpful-crowd",
   "metadata": {},
   "outputs": [
    {
     "name": "stdout",
     "output_type": "stream",
     "text": [
      "['cat']\n",
      "['cat', 'dog']\n",
      "['cat', 'dog', 'zebra']\n"
     ]
    }
   ],
   "source": [
    "animal = []\n",
    "animal.append('cat')\n",
    "print(animal)\n",
    "animal.append('dog')\n",
    "print(animal)\n",
    "animal.append('zebra')\n",
    "print(animal)"
   ]
  },
  {
   "cell_type": "markdown",
   "id": "photographic-thanks",
   "metadata": {},
   "source": [
    "#### 2.3 .insert(location, item)"
   ]
  },
  {
   "cell_type": "code",
   "execution_count": 27,
   "id": "afraid-maldives",
   "metadata": {},
   "outputs": [
    {
     "name": "stdout",
     "output_type": "stream",
     "text": [
      "['banana', 'peach', 'apple', 'cherry', 'melon']\n"
     ]
    }
   ],
   "source": [
    "fruits = ['banana', 'apple','cherry','melon']\n",
    "fruits.insert(1, 'peach')\n",
    "\n",
    "print(fruits)"
   ]
  },
  {
   "cell_type": "markdown",
   "id": "miniature-jewelry",
   "metadata": {},
   "source": [
    "#### 2.4 .remove(item)"
   ]
  },
  {
   "cell_type": "code",
   "execution_count": 29,
   "id": "following-marina",
   "metadata": {},
   "outputs": [
    {
     "name": "stdout",
     "output_type": "stream",
     "text": [
      "['banana', 'cherry', 'melon', 'apple']\n"
     ]
    }
   ],
   "source": [
    "fruits = ['banana', 'apple','cherry','melon','apple']\n",
    "fruits.remove('apple')\n",
    "\n",
    "print(fruits) # In case of duplicate data, the index with the lowest value is deleted."
   ]
  },
  {
   "cell_type": "markdown",
   "id": "governmental-expression",
   "metadata": {},
   "source": [
    "#### 2.5 .pop(index)"
   ]
  },
  {
   "cell_type": "code",
   "execution_count": 32,
   "id": "liquid-belly",
   "metadata": {
    "scrolled": true
   },
   "outputs": [
    {
     "name": "stdout",
     "output_type": "stream",
     "text": [
      "['banana', 'apple', 'cherry']\n",
      "apple\n",
      "['banana', 'cherry', 'melon']\n"
     ]
    }
   ],
   "source": [
    "fruits = ['banana', 'apple','cherry','melon']\n",
    "\n",
    "fruits.pop()\n",
    "print(fruits)\n",
    "\n",
    "fruits = ['banana', 'apple','cherry','melon']\n",
    "print(fruits.pop(1))\n",
    "print(fruits)"
   ]
  },
  {
   "cell_type": "markdown",
   "id": "owned-salon",
   "metadata": {},
   "source": [
    "#### 2.6 .count(item)"
   ]
  },
  {
   "cell_type": "code",
   "execution_count": 33,
   "id": "periodic-infrastructure",
   "metadata": {},
   "outputs": [
    {
     "name": "stdout",
     "output_type": "stream",
     "text": [
      "1\n",
      "2\n"
     ]
    }
   ],
   "source": [
    "fruits = ['banana', 'apple','cherry','melon','apple']\n",
    "\n",
    "print(fruits.count('banana'))\n",
    "print(fruits.count('apple'))"
   ]
  }
 ],
 "metadata": {
  "kernelspec": {
   "display_name": "Python 3",
   "language": "python",
   "name": "python3"
  },
  "language_info": {
   "codemirror_mode": {
    "name": "ipython",
    "version": 3
   },
   "file_extension": ".py",
   "mimetype": "text/x-python",
   "name": "python",
   "nbconvert_exporter": "python",
   "pygments_lexer": "ipython3",
   "version": "3.9.2"
  }
 },
 "nbformat": 4,
 "nbformat_minor": 5
}
