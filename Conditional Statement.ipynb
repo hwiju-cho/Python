{
 "cells": [
  {
   "cell_type": "markdown",
   "id": "regional-munich",
   "metadata": {},
   "source": [
    "### Conditional Statement(if, elif, else)"
   ]
  },
  {
   "cell_type": "markdown",
   "id": "concrete-dance",
   "metadata": {},
   "source": [
    "### 1. if - else"
   ]
  },
  {
   "cell_type": "code",
   "execution_count": 2,
   "id": "virtual-tumor",
   "metadata": {
    "scrolled": true
   },
   "outputs": [
    {
     "name": "stdout",
     "output_type": "stream",
     "text": [
      "1 is odd number\n",
      "2 is even number\n",
      "3 is odd number\n",
      "4 is even number\n",
      "5 is odd number\n",
      "6 is even number\n",
      "7 is odd number\n",
      "8 is even number\n",
      "9 is odd number\n",
      "10 is even number\n"
     ]
    }
   ],
   "source": [
    "for i in range(1,11):\n",
    "    if i % 2 == 0:\n",
    "        print(i,\"is even number\")\n",
    "    else:\n",
    "        print(i, \"is odd number\")"
   ]
  },
  {
   "cell_type": "markdown",
   "id": "banned-sperm",
   "metadata": {},
   "source": [
    "#### 2. if - elif - else"
   ]
  },
  {
   "cell_type": "code",
   "execution_count": 7,
   "id": "responsible-colombia",
   "metadata": {},
   "outputs": [
    {
     "name": "stdout",
     "output_type": "stream",
     "text": [
      "A\n"
     ]
    }
   ],
   "source": [
    "a = 90\n",
    "\n",
    "if a  <= 100 :\n",
    "    print(\"A\")\n",
    "elif a > 80: #else if\n",
    "    print(\"B\")\n",
    "elif a > 70:\n",
    "    print(\"C\")\n",
    "else:\n",
    "    print(\"F\")"
   ]
  },
  {
   "cell_type": "markdown",
   "id": "wired-charter",
   "metadata": {},
   "source": [
    "#### 3. nested if statements "
   ]
  },
  {
   "cell_type": "code",
   "execution_count": 3,
   "id": "personalized-mining",
   "metadata": {
    "scrolled": true
   },
   "outputs": [
    {
     "name": "stdout",
     "output_type": "stream",
     "text": [
      "hello!\n"
     ]
    }
   ],
   "source": [
    "a = 110\n",
    "if a > 100:\n",
    "    print(\"greater than 100\")\n",
    "    if a % 2 == 0:\n",
    "        print(\"even number\")\n",
    "    \n",
    "    else:\n",
    "        print(\"odd n\")"
   ]
  },
  {
   "cell_type": "markdown",
   "id": "documented-receiver",
   "metadata": {},
   "source": [
    "#### 3. attention point!"
   ]
  },
  {
   "cell_type": "code",
   "execution_count": 3,
   "id": "british-samba",
   "metadata": {},
   "outputs": [
    {
     "name": "stdout",
     "output_type": "stream",
     "text": [
      "if-1\n"
     ]
    }
   ],
   "source": [
    "#see the difference between ex1 and ex2!\n",
    "\n",
    "#ex1\n",
    "a = 110\n",
    "\n",
    "if a > 100:\n",
    "    print(\"if-1\")\n",
    "elif a > 70:\n",
    "    print(\"if-2\")\n",
    "else:\n",
    "    print(\"if-3\")"
   ]
  },
  {
   "cell_type": "code",
   "execution_count": 4,
   "id": "excessive-preserve",
   "metadata": {},
   "outputs": [
    {
     "name": "stdout",
     "output_type": "stream",
     "text": [
      "if-1\n",
      "if-2\n",
      "if-3\n"
     ]
    }
   ],
   "source": [
    "#ex2\n",
    "a = 110\n",
    "\n",
    "if a > 100:\n",
    "    print(\"if-1\")\n",
    "if a > 70:\n",
    "    print(\"if-2\")\n",
    "if a > 50:\n",
    "    print(\"if-3\")"
   ]
  }
 ],
 "metadata": {
  "kernelspec": {
   "display_name": "Python 3",
   "language": "python",
   "name": "python3"
  },
  "language_info": {
   "codemirror_mode": {
    "name": "ipython",
    "version": 3
   },
   "file_extension": ".py",
   "mimetype": "text/x-python",
   "name": "python",
   "nbconvert_exporter": "python",
   "pygments_lexer": "ipython3",
   "version": "3.9.2"
  }
 },
 "nbformat": 4,
 "nbformat_minor": 5
}
