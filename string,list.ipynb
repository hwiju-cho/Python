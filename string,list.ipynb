{
 "cells": [
  {
   "cell_type": "markdown",
   "id": "primary-commons",
   "metadata": {},
   "source": [
    "### data structure with order"
   ]
  },
  {
   "cell_type": "markdown",
   "id": "critical-madison",
   "metadata": {},
   "source": [
    "#### 1. string"
   ]
  },
  {
   "cell_type": "markdown",
   "id": "overall-variance",
   "metadata": {},
   "source": [
    "#### 1.1 in"
   ]
  },
  {
   "cell_type": "code",
   "execution_count": 9,
   "id": "better-submission",
   "metadata": {},
   "outputs": [
    {
     "name": "stdout",
     "output_type": "stream",
     "text": [
      "True\n",
      "True\n",
      "False\n"
     ]
    }
   ],
   "source": [
    "a = \"Thank You For The Good Times\"\n",
    "print(\"Good\" in a)\n",
    "print(\"F\" in a)\n",
    "print(\"I\" in a)"
   ]
  },
  {
   "cell_type": "markdown",
   "id": "cathedral-planner",
   "metadata": {},
   "source": [
    "#### 1.2 .find()"
   ]
  },
  {
   "cell_type": "code",
   "execution_count": 10,
   "id": "prostate-shock",
   "metadata": {},
   "outputs": [
    {
     "name": "stdout",
     "output_type": "stream",
     "text": [
      "1\n",
      "0\n",
      "-1\n",
      "0\n"
     ]
    }
   ],
   "source": [
    "a = \"Thank You For The Good Times\"\n",
    "\n",
    "print(a.find('h'))\n",
    "print(a.find('T')) # return first place\n",
    "print(a.find('z')) # return -1 when given string doesn't exist\n",
    "print(a.find('Thank'))"
   ]
  },
  {
   "cell_type": "markdown",
   "id": "mediterranean-bookmark",
   "metadata": {},
   "source": [
    "#### 1.3 .split(i)\n",
    "      : split string by i and return in list"
   ]
  },
  {
   "cell_type": "code",
   "execution_count": 15,
   "id": "adjusted-insured",
   "metadata": {},
   "outputs": [
    {
     "name": "stdout",
     "output_type": "stream",
     "text": [
      "['ba', 'a', 'a']\n",
      "['Thank', 'You', 'For', 'The', 'Good', 'Times']\n",
      "['Thank', 'You', 'For', 'The', 'Good', 'Times']\n"
     ]
    }
   ],
   "source": [
    "b = 'banana'\n",
    "print(b.split('n'))\n",
    "\n",
    "a = \"Thank You For The Good Times\"\n",
    "print(a.split(' '))\n",
    "print(a.split())"
   ]
  },
  {
   "cell_type": "markdown",
   "id": "shaped-internet",
   "metadata": {},
   "source": [
    "#### 1.4 .join(list)"
   ]
  },
  {
   "cell_type": "code",
   "execution_count": 19,
   "id": "capital-atlantic",
   "metadata": {},
   "outputs": [
    {
     "name": "stdout",
     "output_type": "stream",
     "text": [
      "cat&dog\n",
      "banana\n"
     ]
    }
   ],
   "source": [
    "li = ['cat', 'dog']\n",
    "print('&'.join(li))\n",
    "\n",
    "s = ['b','a','n','a','n','a']\n",
    "print(''.join(s))"
   ]
  },
  {
   "cell_type": "markdown",
   "id": "alive-haiti",
   "metadata": {},
   "source": [
    "#### 2. list"
   ]
  },
  {
   "cell_type": "code",
   "execution_count": 20,
   "id": "invisible-england",
   "metadata": {},
   "outputs": [],
   "source": [
    "li_1 = [] #empty list\n",
    "li_2 = ['a','b']\n",
    "li_3 = ['a',3]\n",
    "li_4 = ['a',3,[]]"
   ]
  },
  {
   "cell_type": "markdown",
   "id": "impressive-anger",
   "metadata": {},
   "source": [
    "#### 2.1 sort(), sorted()"
   ]
  },
  {
   "cell_type": "code",
   "execution_count": 24,
   "id": "better-works",
   "metadata": {},
   "outputs": [
    {
     "name": "stdout",
     "output_type": "stream",
     "text": [
      "['apple', 'banana', 'cherry', 'melon']\n",
      "None\n"
     ]
    }
   ],
   "source": [
    "# 1. sort()\n",
    "fruits = ['banana', 'apple','cherry','melon']\n",
    "\n",
    "fruits.sort()\n",
    "print(fruits) # fruits changed!\n",
    "\n",
    "print(fruits.sort()) # None"
   ]
  },
  {
   "cell_type": "code",
   "execution_count": 23,
   "id": "headed-channels",
   "metadata": {},
   "outputs": [
    {
     "name": "stdout",
     "output_type": "stream",
     "text": [
      "['apple', 'banana', 'cherry', 'melon']\n",
      "['banana', 'apple', 'cherry', 'melon']\n"
     ]
    }
   ],
   "source": [
    "# 2. sorted()\n",
    "fruits = ['banana', 'apple','cherry','melon']\n",
    "\n",
    "print(sorted(fruits))\n",
    "print(fruits)"
   ]
  },
  {
   "cell_type": "markdown",
   "id": "figured-rebel",
   "metadata": {},
   "source": [
    "#### 2.2 .append(d)"
   ]
  },
  {
   "cell_type": "code",
   "execution_count": null,
   "id": "painted-doctor",
   "metadata": {},
   "outputs": [],
   "source": []
  }
 ],
 "metadata": {
  "kernelspec": {
   "display_name": "Python 3",
   "language": "python",
   "name": "python3"
  },
  "language_info": {
   "codemirror_mode": {
    "name": "ipython",
    "version": 3
   },
   "file_extension": ".py",
   "mimetype": "text/x-python",
   "name": "python",
   "nbconvert_exporter": "python",
   "pygments_lexer": "ipython3",
   "version": "3.9.2"
  }
 },
 "nbformat": 4,
 "nbformat_minor": 5
}
