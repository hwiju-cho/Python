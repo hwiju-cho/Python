{
 "cells": [
  {
   "cell_type": "markdown",
   "id": "sweet-scroll",
   "metadata": {},
   "source": [
    "### Class basic"
   ]
  },
  {
   "cell_type": "markdown",
   "id": "covered-offense",
   "metadata": {},
   "source": [
    "#### 1. class definition \n",
    "\n",
    "&nbsp;&nbsp;&nbsp;&nbsp; class Name(): <br>\n",
    "&nbsp;&nbsp;&nbsp;&nbsp;&nbsp;&nbsp;&nbsp;&nbsp;&nbsp;&nbsp;&nbsp;var1 = value1<br>\n",
    "&nbsp;&nbsp;&nbsp;&nbsp;&nbsp;&nbsp;&nbsp;&nbsp;&nbsp;&nbsp;&nbsp;def method_name(): <br>\n",
    "&nbsp;&nbsp;&nbsp;&nbsp;&nbsp;&nbsp;&nbsp;&nbsp;&nbsp;&nbsp;&nbsp;&nbsp;&nbsp;&nbsp;&nbsp;&nbsp;&nbsp;&nbsp;self.var2 = value2 <br>"
   ]
  },
  {
   "cell_type": "code",
   "execution_count": 1,
   "id": "controlling-scout",
   "metadata": {},
   "outputs": [],
   "source": [
    "class Player():\n",
    "    skill = [] #member variable\n",
    "    \n",
    "    #method : function in class\n",
    "    def set_info(self, name):  #don't forget self!\n",
    "        self.name = name # declare member variable in method\n",
    "    \n",
    "    def add_skill(self, new_skill):\n",
    "        self.skill.append(new_skill) # access member variable in method"
   ]
  },
  {
   "cell_type": "code",
   "execution_count": 2,
   "id": "unlikely-suggestion",
   "metadata": {},
   "outputs": [],
   "source": [
    "# Creating Object\n",
    "# new_player : Object, instance of Player(class)\n",
    "new_player = Player() \n",
    "\n",
    "\n",
    "#call method\n",
    "new_player.set_info(\"ME\") \n",
    "new_player.add_skill(\"fireball\")"
   ]
  },
  {
   "cell_type": "code",
   "execution_count": 3,
   "id": "polar-chemical",
   "metadata": {},
   "outputs": [
    {
     "name": "stdout",
     "output_type": "stream",
     "text": [
      "ME\n",
      "['fireball']\n"
     ]
    }
   ],
   "source": [
    "# how to access member variable\n",
    "print(new_player.name) \n",
    "print(new_player.skill) "
   ]
  },
  {
   "cell_type": "markdown",
   "id": "stupid-lancaster",
   "metadata": {},
   "source": [
    "#### 2. __init__ <br>\n",
    "&nbsp;&nbsp;&nbsp;&nbsp; : method that is excuted automatically when object is made"
   ]
  },
  {
   "cell_type": "code",
   "execution_count": 4,
   "id": "great-survival",
   "metadata": {},
   "outputs": [],
   "source": [
    "class Player_init():\n",
    "    skill = [] \n",
    "    \n",
    "    def __init__(self, name):\n",
    "        self.name = name "
   ]
  },
  {
   "cell_type": "code",
   "execution_count": 5,
   "id": "acquired-bacteria",
   "metadata": {},
   "outputs": [
    {
     "name": "stdout",
     "output_type": "stream",
     "text": [
      "YOU\n"
     ]
    }
   ],
   "source": [
    "sec_player = Player_init(\"YOU\")\n",
    "print(sec_player.name)"
   ]
  }
 ],
 "metadata": {
  "kernelspec": {
   "display_name": "Python 3",
   "language": "python",
   "name": "python3"
  },
  "language_info": {
   "codemirror_mode": {
    "name": "ipython",
    "version": 3
   },
   "file_extension": ".py",
   "mimetype": "text/x-python",
   "name": "python",
   "nbconvert_exporter": "python",
   "pygments_lexer": "ipython3",
   "version": "3.9.2"
  }
 },
 "nbformat": 4,
 "nbformat_minor": 5
}
