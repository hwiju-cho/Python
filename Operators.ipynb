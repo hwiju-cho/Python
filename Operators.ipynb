{
 "cells": [
  {
   "cell_type": "markdown",
   "id": "instrumental-egyptian",
   "metadata": {},
   "source": [
    "#### 1. arithmetic operator"
   ]
  },
  {
   "cell_type": "code",
   "execution_count": 1,
   "id": "sustainable-charles",
   "metadata": {},
   "outputs": [
    {
     "name": "stdout",
     "output_type": "stream",
     "text": [
      "30\n",
      "-10\n",
      "200\n",
      "0.5\n",
      "4\n",
      "1\n",
      "81\n"
     ]
    }
   ],
   "source": [
    "# 1. +\n",
    "print(10+20)\n",
    "\n",
    "# 2. -\n",
    "print(10-20)\n",
    "\n",
    "# 3. * : multiplication\n",
    "print(10*20)\n",
    "\n",
    "# 4. / :division\n",
    "print(10/20)\n",
    "\n",
    "# 5. // : quotient\n",
    "print(20//5)\n",
    "\n",
    "# 6. % : remain\n",
    "print(31%5)\n",
    "\n",
    "# 7. ** : power\n",
    "print(3**4)"
   ]
  },
  {
   "cell_type": "code",
   "execution_count": 2,
   "id": "mexican-motivation",
   "metadata": {},
   "outputs": [
    {
     "name": "stdout",
     "output_type": "stream",
     "text": [
      "11\n",
      "9\n",
      "20\n",
      "15.0\n",
      "10\n",
      "1\n",
      "256\n"
     ]
    }
   ],
   "source": [
    "# Assignment operators\n",
    "\n",
    "a = 10\n",
    "a += 1\n",
    "print(a)\n",
    "\n",
    "b = 10\n",
    "b -= 1\n",
    "print(b)\n",
    "\n",
    "c = 10\n",
    "c *= 2\n",
    "print(c)\n",
    "\n",
    "d = 30\n",
    "d /= 2\n",
    "print(d)\n",
    "\n",
    "e = 20\n",
    "e //= 2\n",
    "print(e)\n",
    "\n",
    "f = 31\n",
    "f %= 6\n",
    "print(f)\n",
    "\n",
    "g = 4\n",
    "g **= 4\n",
    "print(g)"
   ]
  },
  {
   "cell_type": "markdown",
   "id": "multiple-detector",
   "metadata": {},
   "source": [
    "#### 2. str operator"
   ]
  },
  {
   "cell_type": "code",
   "execution_count": 3,
   "id": "dying-investment",
   "metadata": {},
   "outputs": [
    {
     "name": "stdout",
     "output_type": "stream",
     "text": [
      "hello!\n",
      "hellohellohello\n"
     ]
    }
   ],
   "source": [
    "a = \"hello\"\n",
    "b = '!'\n",
    "\n",
    "# 1. +\n",
    "print(a+b)\n",
    "\n",
    "# 2. *\n",
    "print(a*3)"
   ]
  },
  {
   "cell_type": "markdown",
   "id": "solved-glenn",
   "metadata": {},
   "source": [
    "#### 3. comparision operator"
   ]
  },
  {
   "cell_type": "code",
   "execution_count": 4,
   "id": "meaning-contemporary",
   "metadata": {
    "scrolled": true
   },
   "outputs": [
    {
     "name": "stdout",
     "output_type": "stream",
     "text": [
      "True\n",
      "False\n",
      "False\n",
      "True\n",
      "True\n",
      "False\n",
      "True\n",
      "True\n"
     ]
    }
   ],
   "source": [
    "print(10 < 20)\n",
    "print(10 > 20)\n",
    "print(10 >= 15)\n",
    "print(10 <= 15)\n",
    "\n",
    "print(10 == 10)\n",
    "print(10 != 10)\n",
    "\n",
    "print(\"hello\" != \"hell\")\n",
    "print(\"hello\" == \"hello\")"
   ]
  },
  {
   "cell_type": "markdown",
   "id": "visible-genetics",
   "metadata": {},
   "source": [
    "#### 4. logical operator"
   ]
  },
  {
   "cell_type": "code",
   "execution_count": 5,
   "id": "opposite-celebration",
   "metadata": {},
   "outputs": [
    {
     "name": "stdout",
     "output_type": "stream",
     "text": [
      "True\n",
      "False\n",
      "False\n",
      "==========\n",
      "True\n",
      "True\n",
      "False\n",
      "==========\n",
      "False\n",
      "True\n"
     ]
    }
   ],
   "source": [
    "a = True\n",
    "b = False\n",
    "\n",
    "print(a and a)\n",
    "print(a and b)\n",
    "print(b and b)\n",
    "\n",
    "print(\"=\" * 10)\n",
    "\n",
    "print(a or a)\n",
    "print(a or b)\n",
    "print(b or b)\n",
    "\n",
    "print(\"=\" * 10)\n",
    "\n",
    "print(not a)\n",
    "print(not b)"
   ]
  }
 ],
 "metadata": {
  "kernelspec": {
   "display_name": "Python 3",
   "language": "python",
   "name": "python3"
  },
  "language_info": {
   "codemirror_mode": {
    "name": "ipython",
    "version": 3
   },
   "file_extension": ".py",
   "mimetype": "text/x-python",
   "name": "python",
   "nbconvert_exporter": "python",
   "pygments_lexer": "ipython3",
   "version": "3.9.2"
  }
 },
 "nbformat": 4,
 "nbformat_minor": 5
}
