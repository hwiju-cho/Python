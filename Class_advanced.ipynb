{
 "cells": [
  {
   "cell_type": "markdown",
   "id": "terminal-majority",
   "metadata": {},
   "source": [
    "### Class Advanced"
   ]
  },
  {
   "cell_type": "markdown",
   "id": "impressive-shannon",
   "metadata": {},
   "source": [
    "### benefit of using class\n",
    "#### 1. Reusable"
   ]
  },
  {
   "cell_type": "code",
   "execution_count": 1,
   "id": "inappropriate-vulnerability",
   "metadata": {},
   "outputs": [],
   "source": [
    "# make variables about game player\n",
    "# player has name, hp and mp (hp and mp have initial value 100, power has initial value 10)\n",
    "\n",
    "player1_name = \"player1\"\n",
    "player1_hp = 100\n",
    "player1_mp = 100\n",
    "player1_power = 10\n",
    "\n",
    "# If you need one more player\n",
    "player2_name = \"player2\"\n",
    "player2_hp = 100\n",
    "player2_mp = 100\n",
    "player2_power = 10\n",
    "\n",
    "\n",
    "# what if i want to make 1000 over players..?\n",
    "# Class makes it easy!\n",
    "\n",
    "class Player:\n",
    "    def __init__(self,name):\n",
    "        self.name = name\n",
    "        self.hp = 100\n",
    "        self.mp = 100\n",
    "        self.power = 10\n",
    "        \n",
    "player3 = Player(\"A\")\n",
    "\n",
    "# -> much simpler, easier than ex1!"
   ]
  },
  {
   "cell_type": "markdown",
   "id": "convenient-drama",
   "metadata": {},
   "source": [
    "#### 2. Composition"
   ]
  },
  {
   "cell_type": "code",
   "execution_count": 3,
   "id": "strong-prison",
   "metadata": {},
   "outputs": [
    {
     "name": "stdout",
     "output_type": "stream",
     "text": [
      "player5 player used magic!\n",
      "M used magic!\n"
     ]
    }
   ],
   "source": [
    "# want to make function about game player, use magic!\n",
    "# if we don't have class..\n",
    "\n",
    "player5_name = \"player5\"\n",
    "player5_hp = 100\n",
    "player5_mp = 100\n",
    "\n",
    "def use_magic(mp, name):\n",
    "    print(name, \"player used magic!\")\n",
    "    return mp-10\n",
    "\n",
    "player5_mp = use_magic(player5_mp, player5_name)\n",
    "\n",
    "# -> hard to use and there's no connection between player and use_magic function\n",
    "\n",
    "\n",
    "class Player:\n",
    "    def __init__(self,name):\n",
    "        self.name = name\n",
    "        self.hp = 100\n",
    "        self.mp = 100\n",
    "        self.power = 10        \n",
    "    def use_magic(self): #by using method.. we can gather them together\n",
    "        print(self.name,\"used magic!\")\n",
    "        self.mp -= 10\n",
    "\n",
    "player6 = Player(\"M\")\n",
    "player6.use_magic()\n"
   ]
  },
  {
   "cell_type": "markdown",
   "id": "hidden-providence",
   "metadata": {},
   "source": [
    "#### 3. Inheritance"
   ]
  },
  {
   "cell_type": "code",
   "execution_count": 10,
   "id": "accomplished-trinidad",
   "metadata": {},
   "outputs": [
    {
     "name": "stdout",
     "output_type": "stream",
     "text": [
      "Player7\n",
      "Player7 used magic!\n",
      "Player7 heal himself!\n"
     ]
    }
   ],
   "source": [
    "# want to make another class of player! healer!\n",
    "\n",
    "class Healer(Player):\n",
    "    def heal(self):\n",
    "        print(self.name, \"heal himself!\")\n",
    "        self.hp += 10\n",
    "        \n",
    "player7 = Healer(\"Player7\")\n",
    "\n",
    "# test for __init__\n",
    "print(player7.name) # __init__ is inherited\n",
    "\n",
    "# can player 7 use magic?\n",
    "player7.use_magic() # YES!\n",
    "\n",
    "# of course, player7 can heal himself\n",
    "player7.heal()"
   ]
  },
  {
   "cell_type": "markdown",
   "id": "engaging-sharp",
   "metadata": {},
   "source": [
    "#### 4. Operator Overloading"
   ]
  },
  {
   "cell_type": "code",
   "execution_count": 11,
   "id": "realistic-arrangement",
   "metadata": {},
   "outputs": [],
   "source": [
    "class Point():\n",
    "    def __init__(self,x,y):\n",
    "        self.xpos = x\n",
    "        self.ypos = y\n",
    "\n",
    "x = Point(1, 10)\n",
    "y = Point(2, 20)\n",
    "\n",
    "# want to add x-pos to x-pos, y-pos to y-pos\n",
    "# in this case, we can use Operator overloading!"
   ]
  },
  {
   "cell_type": "code",
   "execution_count": 15,
   "id": "auburn-saturday",
   "metadata": {},
   "outputs": [
    {
     "name": "stdout",
     "output_type": "stream",
     "text": [
      "xpos: 3 ypos: 30\n"
     ]
    }
   ],
   "source": [
    "class Point():\n",
    "    def __init__(self,x,y):\n",
    "        self.xpos = x\n",
    "        self.ypos = y\n",
    "    def __add__(self, a):\n",
    "        temp = Point(self.xpos + a.xpos, self.ypos + a.ypos)\n",
    "        return temp\n",
    "\n",
    "x = Point(1, 10)\n",
    "y = Point(2, 20)\n",
    "z = x+y\n",
    "print(\"xpos: %d ypos: %d\" % (z.xpos, z.ypos))"
   ]
  }
 ],
 "metadata": {
  "kernelspec": {
   "display_name": "Python 3",
   "language": "python",
   "name": "python3"
  },
  "language_info": {
   "codemirror_mode": {
    "name": "ipython",
    "version": 3
   },
   "file_extension": ".py",
   "mimetype": "text/x-python",
   "name": "python",
   "nbconvert_exporter": "python",
   "pygments_lexer": "ipython3",
   "version": "3.9.2"
  }
 },
 "nbformat": 4,
 "nbformat_minor": 5
}
