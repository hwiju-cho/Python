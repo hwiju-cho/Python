{
 "cells": [
  {
   "cell_type": "markdown",
   "id": "lovely-nation",
   "metadata": {},
   "source": [
    "# Handling Exceptions"
   ]
  },
  {
   "cell_type": "markdown",
   "id": "express-intersection",
   "metadata": {},
   "source": [
    "## 1. try except"
   ]
  },
  {
   "cell_type": "markdown",
   "id": "apparent-heater",
   "metadata": {},
   "source": [
    "### - benefit of using try except"
   ]
  },
  {
   "cell_type": "code",
   "execution_count": 4,
   "id": "engaged-resistance",
   "metadata": {
    "scrolled": false
   },
   "outputs": [
    {
     "name": "stdout",
     "output_type": "stream",
     "text": [
      "type something: \ts\n"
     ]
    },
    {
     "ename": "ValueError",
     "evalue": "invalid literal for int() with base 10: 's'",
     "output_type": "error",
     "traceback": [
      "\u001b[1;31m---------------------------------------------------------------------------\u001b[0m",
      "\u001b[1;31mValueError\u001b[0m                                Traceback (most recent call last)",
      "\u001b[1;32m<ipython-input-4-6fb95f8a4396>\u001b[0m in \u001b[0;36m<module>\u001b[1;34m\u001b[0m\n\u001b[0;32m      1\u001b[0m \u001b[1;31m# benefit of using try except\u001b[0m\u001b[1;33m\u001b[0m\u001b[1;33m\u001b[0m\u001b[1;33m\u001b[0m\u001b[0m\n\u001b[0;32m      2\u001b[0m \u001b[1;33m\u001b[0m\u001b[0m\n\u001b[1;32m----> 3\u001b[1;33m \u001b[0mx\u001b[0m \u001b[1;33m=\u001b[0m \u001b[0mint\u001b[0m\u001b[1;33m(\u001b[0m\u001b[0minput\u001b[0m\u001b[1;33m(\u001b[0m\u001b[1;34m'type something: \\t'\u001b[0m\u001b[1;33m)\u001b[0m\u001b[1;33m)\u001b[0m\u001b[1;33m\u001b[0m\u001b[1;33m\u001b[0m\u001b[0m\n\u001b[0m\u001b[0;32m      4\u001b[0m \u001b[0mprint\u001b[0m\u001b[1;33m(\u001b[0m\u001b[0mx\u001b[0m\u001b[1;33m)\u001b[0m\u001b[1;33m\u001b[0m\u001b[1;33m\u001b[0m\u001b[0m\n\u001b[0;32m      5\u001b[0m \u001b[1;33m\u001b[0m\u001b[0m\n",
      "\u001b[1;31mValueError\u001b[0m: invalid literal for int() with base 10: 's'"
     ]
    }
   ],
   "source": [
    "x = int(input('type something: \\t'))\n",
    "print(\"value of x: \", x)\n",
    "\n",
    "print(\"can you see me?\") #NO"
   ]
  },
  {
   "cell_type": "code",
   "execution_count": 5,
   "id": "corrected-ivory",
   "metadata": {
    "scrolled": true
   },
   "outputs": [
    {
     "name": "stdout",
     "output_type": "stream",
     "text": [
      "type something: \ts\n",
      "error! invalid literal for int() with base 10: 's'\n",
      "can you see me?\n"
     ]
    }
   ],
   "source": [
    "try:\n",
    "    x = int(input('type something: \\t'))\n",
    "print(\"value of x: \", x)\n",
    "except:\n",
    "    print(\"error!\")\n",
    "\n",
    "print(\"can you see me?\") #YES!"
   ]
  },
  {
   "cell_type": "markdown",
   "id": "aquatic-politics",
   "metadata": {},
   "source": [
    "### - details of try except"
   ]
  },
  {
   "cell_type": "code",
   "execution_count": 10,
   "id": "explicit-nelson",
   "metadata": {
    "scrolled": true
   },
   "outputs": [
    {
     "name": "stdout",
     "output_type": "stream",
     "text": [
      "type something: \ts\n",
      "#1 : error!\n",
      "\n",
      "\n",
      "type something: \ts\n",
      "#2 : error!\n",
      "\n",
      "\n",
      "type something: \ts\n",
      "#3 : error! invalid literal for int() with base 10: 's'\n"
     ]
    }
   ],
   "source": [
    "#1.\n",
    "\n",
    "try:\n",
    "    x = int(input('type something: \\t'))\n",
    "    print(\"value of x: \", x)\n",
    "except: # Execute except block regardless of the type of error\n",
    "    print(\"#1 : error!\\n\\n\")\n",
    "    \n",
    "\n",
    "    \n",
    "#2. \n",
    "try:\n",
    "    x = int(input('type something: \\t'))\n",
    "    print(\"value of x: \", x)\n",
    "except ValueError: # Execute except block when only ValueError occurs\n",
    "    print(\"#2 : error!\\n\\n\")\n",
    "    \n",
    "\n",
    "\n",
    "#3. \n",
    "try:\n",
    "    x = int(input('type something: \\t'))\n",
    "    print(\"value of x: \", x)\n",
    "except ValueError as err: # difference from2: can see error message\n",
    "    print(\"#3 : error!\", str(err))"
   ]
  },
  {
   "cell_type": "code",
   "execution_count": 15,
   "id": "broke-frank",
   "metadata": {},
   "outputs": [
    {
     "name": "stdout",
     "output_type": "stream",
     "text": [
      "type something: \t1\n",
      "type something: \ta\n",
      "it's not ValueError but something went wrong\n"
     ]
    }
   ],
   "source": [
    "# We can also nest except statements.\n",
    "try:\n",
    "    x = int(input('type something: \\t'))\n",
    "    y = input('type something: \\t')\n",
    "    print(x+y)\n",
    "except ValueError as err: # difference from2: can see error message\n",
    "    print(\"#3 : error!\", str(err),\"\\n\")\n",
    "except:\n",
    "    print(\"it's not ValueError but something went wrong\")"
   ]
  },
  {
   "cell_type": "code",
   "execution_count": 16,
   "id": "included-clinic",
   "metadata": {},
   "outputs": [
    {
     "name": "stdout",
     "output_type": "stream",
     "text": [
      "type something: \ts\n",
      "error!  invalid literal for int() with base 10: 's'\n"
     ]
    }
   ],
   "source": [
    "# It is not always possible to predict what kind of error will occur.\n",
    "# in this case..\n",
    "\n",
    "try:\n",
    "    x = int(input('type something: \\t'))\n",
    "    print(\"value of x: \", x)\n",
    "except Exception as err:\n",
    "    print(\"error! \", str(err))"
   ]
  },
  {
   "cell_type": "markdown",
   "id": "enormous-truth",
   "metadata": {},
   "source": [
    "### try except and else!"
   ]
  },
  {
   "cell_type": "code",
   "execution_count": 18,
   "id": "average-belize",
   "metadata": {
    "scrolled": false
   },
   "outputs": [
    {
     "name": "stdout",
     "output_type": "stream",
     "text": [
      "type something: \t1\n",
      "value of x 1\n",
      "else! This block is only executed when no exception is raised.\n"
     ]
    }
   ],
   "source": [
    "try:\n",
    "    x = int(input('type something: \\t'))\n",
    "    print(\"value of x: \", x)\n",
    "except Exception as err:\n",
    "    print(\"error! \", str(err))\n",
    "else: #should placed right next to except\n",
    "    print(\"else! This block is only executed when no exception is raised.\")"
   ]
  },
  {
   "cell_type": "markdown",
   "id": "wound-theory",
   "metadata": {},
   "source": [
    "### try except and finally!"
   ]
  },
  {
   "cell_type": "code",
   "execution_count": 19,
   "id": "according-stock",
   "metadata": {
    "scrolled": true
   },
   "outputs": [
    {
     "name": "stdout",
     "output_type": "stream",
     "text": [
      "type something: \t2\n",
      "value of x:  2\n",
      "finally block is executed regardless of whether an exception is raised or not.\n"
     ]
    }
   ],
   "source": [
    "try:\n",
    "    x = int(input('type something: \\t'))\n",
    "    print(\"value of x: \", x)\n",
    "except Exception as err:\n",
    "    print(\"error! \", str(err))\n",
    "finally: \n",
    "    print(\"finally block is executed regardless of whether an exception is raised or not.\")"
   ]
  }
 ],
 "metadata": {
  "kernelspec": {
   "display_name": "Python 3",
   "language": "python",
   "name": "python3"
  },
  "language_info": {
   "codemirror_mode": {
    "name": "ipython",
    "version": 3
   },
   "file_extension": ".py",
   "mimetype": "text/x-python",
   "name": "python",
   "nbconvert_exporter": "python",
   "pygments_lexer": "ipython3",
   "version": "3.9.2"
  }
 },
 "nbformat": 4,
 "nbformat_minor": 5
}
