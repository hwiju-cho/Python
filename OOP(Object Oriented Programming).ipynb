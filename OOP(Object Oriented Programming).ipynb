{
 "cells": [
  {
   "cell_type": "markdown",
   "id": "persistent-prospect",
   "metadata": {},
   "source": [
    "### OOP(Object Oriented Programming)"
   ]
  },
  {
   "cell_type": "markdown",
   "id": "hispanic-source",
   "metadata": {},
   "source": [
    "#### 1. Reusable"
   ]
  },
  {
   "cell_type": "code",
   "execution_count": null,
   "id": "inappropriate-vulnerability",
   "metadata": {},
   "outputs": [],
   "source": [
    "# want to make variable about game player\n",
    "# player has name, hp and mp , hp and mp have initial value 100, power has initial value 10\n",
    "\n",
    "player1_name = \"player1\"\n",
    "player1_hp = 100\n",
    "player1_mp = 100\n",
    "\n",
    "# if i wanr to make player2..\n",
    "\n",
    "player2_name = \"player2\"\n",
    "player2_hp = 100\n",
    "player2_mp = 100\n",
    "\n",
    "\n",
    "# what if i want to make 1000 over players..?\n",
    "# class makes it easy!\n",
    "\n",
    "class Player:\n",
    "    def start(self,name):\n",
    "        self.name = name\n",
    "        self.hp = 100\n",
    "        \n",
    "player3 = Player()\n",
    "\n",
    "player3.start(\"A\")\n",
    "player3.hp = 15\n",
    "\n",
    "# -> much simpler, easier than ex1!"
   ]
  },
  {
   "cell_type": "code",
   "execution_count": 1,
   "id": "strong-prison",
   "metadata": {},
   "outputs": [
    {
     "name": "stdout",
     "output_type": "stream",
     "text": [
      "player used magic!\n",
      "M used magic!\n"
     ]
    }
   ],
   "source": [
    "# 2. Composition\n",
    "\n",
    "# ex2\n",
    "# want to make function about game player, use magic!\n",
    "# if we don't have class..\n",
    "\n",
    "\n",
    "player5_name = \"player5\"\n",
    "player5_hp = 100\n",
    "player5_mp = 100\n",
    "\n",
    "def use_magic(mp, ):\n",
    "    print(, \"player used magic!\")\n",
    "    return mp-10\n",
    "\n",
    "player5_mp = use_magic(player5_mp)\n",
    "\n",
    "# -> hard to use..\n",
    "\n",
    "\n",
    "class Player:\n",
    "    def __init__(self,name):\n",
    "        self.name = name\n",
    "        self.hp = 100\n",
    "        self.mp = 100\n",
    "        self.power = 10        \n",
    "    def use_magic(self):\n",
    "        print(self.name,\"used magic!\")\n",
    "        self.mp -= 10\n",
    "\n",
    "player6 = Player(\"M\")\n",
    "player6.use_magic()\n"
   ]
  },
  {
   "cell_type": "code",
   "execution_count": 2,
   "id": "accomplished-trinidad",
   "metadata": {},
   "outputs": [
    {
     "name": "stdout",
     "output_type": "stream",
     "text": [
      "Player7 heal himself!\n"
     ]
    }
   ],
   "source": [
    "# 3. Inheritance\n",
    "\n",
    "# want to make another class of player! healer!\n",
    "\n",
    "class Healer(Player):\n",
    "    def heal(self):\n",
    "        print(self.name, \"heal himself!\")\n",
    "        self.hp += 10\n",
    "        \n",
    "player7 = Healer(\"Player7\")\n",
    "player7.heal()"
   ]
  },
  {
   "cell_type": "code",
   "execution_count": null,
   "id": "realistic-arrangement",
   "metadata": {},
   "outputs": [],
   "source": [
    "# 4. method overriding, overloading -> later.."
   ]
  }
 ],
 "metadata": {
  "kernelspec": {
   "display_name": "Python 3",
   "language": "python",
   "name": "python3"
  },
  "language_info": {
   "codemirror_mode": {
    "name": "ipython",
    "version": 3
   },
   "file_extension": ".py",
   "mimetype": "text/x-python",
   "name": "python",
   "nbconvert_exporter": "python",
   "pygments_lexer": "ipython3",
   "version": "3.9.2"
  }
 },
 "nbformat": 4,
 "nbformat_minor": 5
}
