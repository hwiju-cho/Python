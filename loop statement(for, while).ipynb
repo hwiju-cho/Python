{
 "cells": [
  {
   "cell_type": "markdown",
   "id": "irish-winter",
   "metadata": {},
   "source": [
    "#### 1. for"
   ]
  },
  {
   "cell_type": "code",
   "execution_count": 1,
   "id": "silent-option",
   "metadata": {},
   "outputs": [
    {
     "name": "stdout",
     "output_type": "stream",
     "text": [
      "1\n",
      "2\n",
      "3\n",
      "apple\n",
      "banana\n",
      "cherry\n"
     ]
    }
   ],
   "source": [
    "for i in [1,2,3]:\n",
    "    print(i)\n",
    "    \n",
    "li = ['apple','banana','cherry']\n",
    "for i in li:\n",
    "    print(i)"
   ]
  },
  {
   "cell_type": "code",
   "execution_count": 2,
   "id": "compressed-drove",
   "metadata": {},
   "outputs": [
    {
     "name": "stdout",
     "output_type": "stream",
     "text": [
      "0\n",
      "1\n",
      "2\n",
      "3\n",
      "4\n",
      "==========\n",
      "0\n",
      "1\n",
      "2\n",
      "3\n",
      "4\n",
      "==========\n",
      "0\n",
      "2\n",
      "4\n",
      "6\n",
      "8\n"
     ]
    }
   ],
   "source": [
    "# range\n",
    "\n",
    "for i in range(0,5): # 0 <= i < 5\n",
    "    print(i)\n",
    "    \n",
    "print(\"=\" * 10)\n",
    "\n",
    "for i in range(5): # can skip first argument\n",
    "    print(i)\n",
    "\n",
    "\n",
    "print(\"=\" * 10)\n",
    "\n",
    "for i in range(0,10,2): # i increases by 2\n",
    "    print(i)"
   ]
  },
  {
   "cell_type": "markdown",
   "id": "soviet-preservation",
   "metadata": {},
   "source": [
    "#### 2. while"
   ]
  },
  {
   "cell_type": "code",
   "execution_count": 3,
   "id": "conservative-lexington",
   "metadata": {
    "scrolled": true
   },
   "outputs": [
    {
     "name": "stdout",
     "output_type": "stream",
     "text": [
      "0\n",
      "1\n",
      "2\n",
      "3\n",
      "4\n",
      "5\n",
      "6\n",
      "7\n",
      "8\n",
      "9\n"
     ]
    }
   ],
   "source": [
    "i = 0\n",
    "while i<10:\n",
    "    print(i)\n",
    "    i+=1"
   ]
  },
  {
   "cell_type": "markdown",
   "id": "individual-alberta",
   "metadata": {},
   "source": [
    "#### 3. continue, break"
   ]
  },
  {
   "cell_type": "code",
   "execution_count": 5,
   "id": "functional-mercy",
   "metadata": {
    "scrolled": true
   },
   "outputs": [
    {
     "name": "stdout",
     "output_type": "stream",
     "text": [
      "1\n",
      "2\n",
      "4\n",
      "5\n",
      "7\n",
      "8\n"
     ]
    }
   ],
   "source": [
    "# continue\n",
    "for i in range(1,10):\n",
    "    if i % 3 ==0:\n",
    "        continue\n",
    "    print(i)"
   ]
  },
  {
   "cell_type": "code",
   "execution_count": 6,
   "id": "decimal-glasgow",
   "metadata": {},
   "outputs": [
    {
     "name": "stdout",
     "output_type": "stream",
     "text": [
      "1\n",
      "2\n"
     ]
    }
   ],
   "source": [
    "# break\n",
    "for i in range(1,10):\n",
    "    if i % 3 == 0:\n",
    "        break\n",
    "    print(i)"
   ]
  },
  {
   "cell_type": "markdown",
   "id": "martial-nevada",
   "metadata": {},
   "source": [
    "#### 4. while True & break"
   ]
  },
  {
   "cell_type": "code",
   "execution_count": 2,
   "id": "unnecessary-return",
   "metadata": {},
   "outputs": [
    {
     "name": "stdout",
     "output_type": "stream",
     "text": [
      "안녕하세요\n",
      "안녕하세요\n",
      "안녕하세요\n",
      "안녕하세요\n",
      "안녕하세요\n",
      "안녕하세요\n",
      "안녕하세요\n",
      "안녕하세요\n",
      "안녕하세요\n",
      "안녕하세요\n"
     ]
    }
   ],
   "source": [
    "password = \"hello\"\n",
    "while True:\n",
    "    password = input()\n",
    "    if password==\"정답\":\n",
    "        break"
   ]
  }
 ],
 "metadata": {
  "kernelspec": {
   "display_name": "Python 3",
   "language": "python",
   "name": "python3"
  },
  "language_info": {
   "codemirror_mode": {
    "name": "ipython",
    "version": 3
   },
   "file_extension": ".py",
   "mimetype": "text/x-python",
   "name": "python",
   "nbconvert_exporter": "python",
   "pygments_lexer": "ipython3",
   "version": "3.9.2"
  }
 },
 "nbformat": 4,
 "nbformat_minor": 5
}
