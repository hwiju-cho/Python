{
 "cells": [
  {
   "cell_type": "markdown",
   "id": "killing-swift",
   "metadata": {},
   "source": [
    "### data structure without order"
   ]
  },
  {
   "cell_type": "markdown",
   "id": "waiting-explanation",
   "metadata": {},
   "source": [
    "### 1. dict"
   ]
  },
  {
   "cell_type": "markdown",
   "id": "hawaiian-tobago",
   "metadata": {},
   "source": [
    "#### 1. how to make dict"
   ]
  },
  {
   "cell_type": "code",
   "execution_count": 1,
   "id": "fiscal-retreat",
   "metadata": {},
   "outputs": [
    {
     "name": "stdout",
     "output_type": "stream",
     "text": [
      "<class 'dict'>\n"
     ]
    }
   ],
   "source": [
    "a = {} # dict\n",
    "print(type(a))\n",
    "phone_book = {'a':'0000-0000','b':'1111-1111'} # {key1:value1, key2:value2, ....}"
   ]
  },
  {
   "cell_type": "markdown",
   "id": "beautiful-nation",
   "metadata": {},
   "source": [
    "#### 2. add and change"
   ]
  },
  {
   "cell_type": "code",
   "execution_count": 2,
   "id": "naughty-equity",
   "metadata": {},
   "outputs": [
    {
     "name": "stdout",
     "output_type": "stream",
     "text": [
      "0000-0000\n",
      "{'a': '0000-0000', 'b': '1111-1111', 'c': '2222-2222'}\n",
      "{'a': '0000-0000', 'b': '3333-3333', 'c': '2222-2222'}\n"
     ]
    }
   ],
   "source": [
    "# get value by key\n",
    "print(phone_book['a'])\n",
    "\n",
    "# add new pair\n",
    "phone_book['c'] = '2222-2222' # dic[key] = value\n",
    "print(phone_book)\n",
    "\n",
    "#change value by key\n",
    "phone_book['b'] = '3333-3333'\n",
    "print(phone_book)"
   ]
  },
  {
   "cell_type": "markdown",
   "id": "narrow-milwaukee",
   "metadata": {},
   "source": [
    "#### 3. delete pair by key"
   ]
  },
  {
   "cell_type": "code",
   "execution_count": 3,
   "id": "literary-banana",
   "metadata": {},
   "outputs": [
    {
     "name": "stdout",
     "output_type": "stream",
     "text": [
      "{'a': '0000-0000'}\n"
     ]
    }
   ],
   "source": [
    "phone_book3 = {'b':'1111-1111','a':'0000-0000'}\n",
    "del phone_book3['b']\n",
    "print(phone_book3)"
   ]
  },
  {
   "cell_type": "markdown",
   "id": "genuine-tuner",
   "metadata": {},
   "source": [
    "#### 4. features"
   ]
  },
  {
   "cell_type": "code",
   "execution_count": 4,
   "id": "tropical-external",
   "metadata": {},
   "outputs": [
    {
     "name": "stdout",
     "output_type": "stream",
     "text": [
      "{'2016320': 'computer'}\n"
     ]
    }
   ],
   "source": [
    "# 1. Keys cannot be duplicated\n",
    "student_number = {'2016320':'philosophy','2016320':'computer'} \n",
    "print(student_number)"
   ]
  },
  {
   "cell_type": "code",
   "execution_count": 5,
   "id": "active-encyclopedia",
   "metadata": {},
   "outputs": [
    {
     "name": "stdout",
     "output_type": "stream",
     "text": [
      "same!\n"
     ]
    }
   ],
   "source": [
    "# 2. dictionary has no order\n",
    "phone_book1 = {'a':'0000-0000','b':'1111-1111'}\n",
    "phone_book2 = {'b':'1111-1111','a':'0000-0000'}\n",
    "\n",
    "if phone_book1 == phone_book2:\n",
    "    print(\"same!\") "
   ]
  },
  {
   "cell_type": "markdown",
   "id": "absolute-lemon",
   "metadata": {},
   "source": [
    "### 2. set"
   ]
  },
  {
   "cell_type": "markdown",
   "id": "olympic-galaxy",
   "metadata": {},
   "source": [
    "#### 1. how to make set"
   ]
  },
  {
   "cell_type": "code",
   "execution_count": 6,
   "id": "blind-tackle",
   "metadata": {},
   "outputs": [
    {
     "name": "stdout",
     "output_type": "stream",
     "text": [
      "{'banana', 'apple', 'peach'}\n"
     ]
    }
   ],
   "source": [
    "fruits = {'apple','peach','banana'}\n",
    "print(fruits)"
   ]
  },
  {
   "cell_type": "code",
   "execution_count": 7,
   "id": "preceding-adrian",
   "metadata": {},
   "outputs": [
    {
     "name": "stdout",
     "output_type": "stream",
     "text": [
      "<class 'dict'>\n",
      "<class 'set'>\n"
     ]
    }
   ],
   "source": [
    "a = {}\n",
    "print(type(a))\n",
    "a = set()\n",
    "print(type(a))"
   ]
  },
  {
   "cell_type": "code",
   "execution_count": 8,
   "id": "thrown-joining",
   "metadata": {
    "scrolled": true
   },
   "outputs": [
    {
     "name": "stdout",
     "output_type": "stream",
     "text": [
      "{'p', 'e', 'a', 'l'}\n"
     ]
    }
   ],
   "source": [
    "word = 'apple'\n",
    "print(set(word))"
   ]
  },
  {
   "cell_type": "markdown",
   "id": "polish-publication",
   "metadata": {},
   "source": [
    "#### 2. add, remove"
   ]
  },
  {
   "cell_type": "code",
   "execution_count": 9,
   "id": "interstate-stadium",
   "metadata": {
    "scrolled": true
   },
   "outputs": [
    {
     "name": "stdout",
     "output_type": "stream",
     "text": [
      "{'Apple', 'Banana', 'Peach', 'Grape'}\n"
     ]
    }
   ],
   "source": [
    "a = {'Apple', 'Peach', 'Banana'}\n",
    "a.add('Grape')\n",
    "print(a)"
   ]
  },
  {
   "cell_type": "code",
   "execution_count": 10,
   "id": "familiar-youth",
   "metadata": {
    "scrolled": true
   },
   "outputs": [
    {
     "name": "stdout",
     "output_type": "stream",
     "text": [
      "{'Banana', 'Peach'}\n"
     ]
    }
   ],
   "source": [
    "a = {'Apple', 'Peach', 'Banana'}\n",
    "a.remove('Apple')\n",
    "print(a)"
   ]
  },
  {
   "cell_type": "markdown",
   "id": "veterinary-astrology",
   "metadata": {},
   "source": [
    "#### 3. intersection,union,difference"
   ]
  },
  {
   "cell_type": "code",
   "execution_count": 11,
   "id": "liberal-indication",
   "metadata": {},
   "outputs": [
    {
     "name": "stdout",
     "output_type": "stream",
     "text": [
      "{3}\n",
      "{1, 2, 3, 4, 5}\n",
      "{1, 2}\n"
     ]
    }
   ],
   "source": [
    "set1 = {1,2,3}\n",
    "set2 = {3,4,5}\n",
    "\n",
    "# intersection\n",
    "print(set1 & set2)\n",
    "# union\n",
    "print(set1 | set2)\n",
    "# difference\n",
    "print(set1 - set2)"
   ]
  }
 ],
 "metadata": {
  "kernelspec": {
   "display_name": "Python 3",
   "language": "python",
   "name": "python3"
  },
  "language_info": {
   "codemirror_mode": {
    "name": "ipython",
    "version": 3
   },
   "file_extension": ".py",
   "mimetype": "text/x-python",
   "name": "python",
   "nbconvert_exporter": "python",
   "pygments_lexer": "ipython3",
   "version": "3.9.2"
  }
 },
 "nbformat": 4,
 "nbformat_minor": 5
}
