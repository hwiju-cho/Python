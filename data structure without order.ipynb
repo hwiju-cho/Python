{
 "cells": [
  {
   "cell_type": "markdown",
   "id": "killing-swift",
   "metadata": {},
   "source": [
    "### data structure without order"
   ]
  },
  {
   "cell_type": "markdown",
   "id": "waiting-explanation",
   "metadata": {},
   "source": [
    "#### 1. dict"
   ]
  },
  {
   "cell_type": "code",
   "execution_count": 8,
   "id": "fiscal-retreat",
   "metadata": {},
   "outputs": [
    {
     "name": "stdout",
     "output_type": "stream",
     "text": [
      "0000-0000\n",
      "{'a': '0000-0000', 'b': '1111-1111', 'c': '2222-2222'}\n",
      "{'a': '0000-0000', 'b': '3333-3333', 'c': '2222-2222'}\n"
     ]
    }
   ],
   "source": [
    "phone_book = {'a':'0000-0000','b':'1111-1111'}\n",
    "\n",
    "print(phone_book['a'])\n",
    "\n",
    "phone_book['c'] = '2222-2222'\n",
    "print(phone_book)\n",
    "\n",
    "phone_book['b'] = '3333-3333'\n",
    "print(phone_book)"
   ]
  },
  {
   "cell_type": "code",
   "execution_count": 5,
   "id": "tropical-external",
   "metadata": {},
   "outputs": [
    {
     "name": "stdout",
     "output_type": "stream",
     "text": [
      "{'2016320': 'computer'}\n"
     ]
    }
   ],
   "source": [
    "student_number = {'2016320':'philosophy','2016320':'computer'}\n",
    "print(student_number)"
   ]
  },
  {
   "cell_type": "code",
   "execution_count": 7,
   "id": "active-encyclopedia",
   "metadata": {},
   "outputs": [
    {
     "name": "stdout",
     "output_type": "stream",
     "text": [
      "same!\n"
     ]
    }
   ],
   "source": [
    "phone_book1 = {'a':'0000-0000','b':'1111-1111'}\n",
    "phone_book2 = {'b':'1111-1111','a':'0000-0000'}\n",
    "\n",
    "if phone_book1 == phone_book2:\n",
    "    print(\"same!\") #dictionary has no order"
   ]
  },
  {
   "cell_type": "code",
   "execution_count": 9,
   "id": "literary-banana",
   "metadata": {},
   "outputs": [
    {
     "name": "stdout",
     "output_type": "stream",
     "text": [
      "{'a': '0000-0000'}\n"
     ]
    }
   ],
   "source": [
    "phone_book3 = {'b':'1111-1111','a':'0000-0000'}\n",
    "del phone_book3['b']\n",
    "print(phone_book3)"
   ]
  },
  {
   "cell_type": "code",
   "execution_count": 10,
   "id": "portuguese-richardson",
   "metadata": {},
   "outputs": [
    {
     "name": "stdout",
     "output_type": "stream",
     "text": [
      "find!\n"
     ]
    }
   ],
   "source": [
    "phone_book4 = {'b':'1111-1111','a':'0000-0000'}\n",
    "\n",
    "if 'b' in phone_book4:\n",
    "    print(\"find!\")"
   ]
  },
  {
   "cell_type": "markdown",
   "id": "absolute-lemon",
   "metadata": {},
   "source": [
    "#### 2. set"
   ]
  },
  {
   "cell_type": "code",
   "execution_count": 1,
   "id": "thrown-joining",
   "metadata": {
    "scrolled": true
   },
   "outputs": [
    {
     "name": "stdout",
     "output_type": "stream",
     "text": [
      "{'l', 'e', 'p', 'a'}\n"
     ]
    }
   ],
   "source": [
    "word = 'apple'\n",
    "print(set(word))"
   ]
  },
  {
   "cell_type": "code",
   "execution_count": 3,
   "id": "preceding-adrian",
   "metadata": {},
   "outputs": [
    {
     "name": "stdout",
     "output_type": "stream",
     "text": [
      "<class 'dict'>\n",
      "<class 'set'>\n"
     ]
    }
   ],
   "source": [
    "a = {}\n",
    "print(type(a))\n",
    "a = set()\n",
    "print(type(a))"
   ]
  },
  {
   "cell_type": "code",
   "execution_count": 44,
   "id": "interstate-stadium",
   "metadata": {},
   "outputs": [
    {
     "name": "stdout",
     "output_type": "stream",
     "text": [
      "{'Banana', 'Grape', 'Peach', 'Apple'}\n"
     ]
    }
   ],
   "source": [
    "a = {'Apple', 'Peach', 'Banana'}\n",
    "a.add('Grape')\n",
    "print(a)"
   ]
  },
  {
   "cell_type": "code",
   "execution_count": 10,
   "id": "familiar-youth",
   "metadata": {
    "scrolled": true
   },
   "outputs": [
    {
     "name": "stdout",
     "output_type": "stream",
     "text": [
      "{'Banana', 'Peach'}\n"
     ]
    }
   ],
   "source": [
    "a = {'Apple', 'Peach', 'Banana'}\n",
    "a.remove('Apple')\n",
    "print(a)"
   ]
  },
  {
   "cell_type": "code",
   "execution_count": 48,
   "id": "liberal-indication",
   "metadata": {},
   "outputs": [
    {
     "name": "stdout",
     "output_type": "stream",
     "text": [
      "{1, 2, 3, 4, 5}\n",
      "{3}\n",
      "{1, 2}\n"
     ]
    }
   ],
   "source": [
    "set1 = {1,2,3}\n",
    "set2 = {3,4,5}\n",
    "\n",
    "print(set1 | set2)\n",
    "print(set1 & set2)\n",
    "print(set1 - set2)"
   ]
  }
 ],
 "metadata": {
  "kernelspec": {
   "display_name": "Python 3",
   "language": "python",
   "name": "python3"
  },
  "language_info": {
   "codemirror_mode": {
    "name": "ipython",
    "version": 3
   },
   "file_extension": ".py",
   "mimetype": "text/x-python",
   "name": "python",
   "nbconvert_exporter": "python",
   "pygments_lexer": "ipython3",
   "version": "3.9.2"
  }
 },
 "nbformat": 4,
 "nbformat_minor": 5
}
