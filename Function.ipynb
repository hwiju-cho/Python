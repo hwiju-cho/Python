{
 "cells": [
  {
   "cell_type": "markdown",
   "id": "color-associate",
   "metadata": {},
   "source": [
    "### Function"
   ]
  },
  {
   "cell_type": "markdown",
   "id": "moving-resort",
   "metadata": {},
   "source": [
    "#### 1. Creating Function"
   ]
  },
  {
   "cell_type": "markdown",
   "id": "binding-convertible",
   "metadata": {},
   "source": [
    "#### 1.1 elements that make up a function\n",
    "\n",
    "1. Function name\n",
    "2. Parameter: Value that passed when a function is called\n",
    "3. Statement: Statements to be executed by the function \n",
    "4. Return value: Value that the function passes to the user"
   ]
  },
  {
   "cell_type": "code",
   "execution_count": 1,
   "id": "significant-heritage",
   "metadata": {},
   "outputs": [],
   "source": [
    "def first_func(x,y):\n",
    "    z = x+y\n",
    "    return z"
   ]
  },
  {
   "cell_type": "markdown",
   "id": "expected-fiber",
   "metadata": {},
   "source": [
    "Function name : first_func <br>\n",
    "Parameters: x,y <br>\n",
    "Statements: z = x+y <br>\n",
    "Return value: z"
   ]
  },
  {
   "cell_type": "markdown",
   "id": "geological-module",
   "metadata": {},
   "source": [
    "#### 1.2 above four elements ...\n",
    "      Function name and Statement are essential\n",
    "      Parameter and Return value are optional\n",
    "      So we have four choices"
   ]
  },
  {
   "cell_type": "markdown",
   "id": "funded-explorer",
   "metadata": {},
   "source": [
    "##### 1 . Parameter: X,  Return Value X"
   ]
  },
  {
   "cell_type": "code",
   "execution_count": 2,
   "id": "religious-crisis",
   "metadata": {},
   "outputs": [],
   "source": [
    "def hello1():\n",
    "    print(\"hello\")"
   ]
  },
  {
   "cell_type": "markdown",
   "id": "upper-lebanon",
   "metadata": {},
   "source": [
    "##### 2 . Parameter: X,  Return Value O"
   ]
  },
  {
   "cell_type": "code",
   "execution_count": 3,
   "id": "different-playlist",
   "metadata": {},
   "outputs": [],
   "source": [
    "def hello2():\n",
    "    return \"hello\""
   ]
  },
  {
   "cell_type": "markdown",
   "id": "strong-control",
   "metadata": {},
   "source": [
    "##### 3 . Parameter: O,  Return Value X"
   ]
  },
  {
   "cell_type": "code",
   "execution_count": 4,
   "id": "structural-algorithm",
   "metadata": {},
   "outputs": [],
   "source": [
    "def hello3(string):\n",
    "    print(\"hello\", string)"
   ]
  },
  {
   "cell_type": "markdown",
   "id": "adjustable-grace",
   "metadata": {},
   "source": [
    "##### 4 . Parameter: O,  Return Value O"
   ]
  },
  {
   "cell_type": "code",
   "execution_count": 5,
   "id": "fixed-queensland",
   "metadata": {},
   "outputs": [],
   "source": [
    "def hello4(string):\n",
    "    res = str(string) + \"hello\"\n",
    "    return res"
   ]
  },
  {
   "cell_type": "markdown",
   "id": "external-rally",
   "metadata": {},
   "source": [
    "#### 2. Calling Function\n",
    "      we can call function by its name"
   ]
  },
  {
   "cell_type": "code",
   "execution_count": 6,
   "id": "liked-contrast",
   "metadata": {},
   "outputs": [
    {
     "name": "stdout",
     "output_type": "stream",
     "text": [
      "hello\n"
     ]
    }
   ],
   "source": [
    "def hello():\n",
    "    print(\"hello\")\n",
    "    \n",
    "hello() # look here!"
   ]
  },
  {
   "cell_type": "markdown",
   "id": "whole-quick",
   "metadata": {},
   "source": [
    "#### 3. Two ways to pass parameter to function!"
   ]
  },
  {
   "cell_type": "code",
   "execution_count": 7,
   "id": "black-raise",
   "metadata": {
    "scrolled": true
   },
   "outputs": [
    {
     "name": "stdout",
     "output_type": "stream",
     "text": [
      "20\n",
      "20\n"
     ]
    }
   ],
   "source": [
    "def two_sum(x,y):\n",
    "    return x+y\n",
    "\n",
    "# 1\n",
    "a = 10\n",
    "b = 10\n",
    "print(two_sum(a,b))\n",
    "\n",
    "# 2\n",
    "print(two_sum(10,10))"
   ]
  },
  {
   "cell_type": "markdown",
   "id": "accessible-works",
   "metadata": {},
   "source": [
    "#### 4. attention point about return!"
   ]
  },
  {
   "cell_type": "code",
   "execution_count": 8,
   "id": "active-chester",
   "metadata": {},
   "outputs": [
    {
     "name": "stdout",
     "output_type": "stream",
     "text": [
      "20\n"
     ]
    }
   ],
   "source": [
    "def two_sum(x,y):\n",
    "    return x+y\n",
    "\n",
    "x = two_sum(10,10)\n",
    "print(x)"
   ]
  },
  {
   "cell_type": "code",
   "execution_count": 9,
   "id": "sudden-daughter",
   "metadata": {},
   "outputs": [],
   "source": [
    "def hello():\n",
    "    return \"hello\"# excution of function ends here\n",
    "    print(\"bye\") # will not be excuted!\n",
    "    \n",
    "    \n",
    "b = hello()"
   ]
  }
 ],
 "metadata": {
  "kernelspec": {
   "display_name": "Python 3",
   "language": "python",
   "name": "python3"
  },
  "language_info": {
   "codemirror_mode": {
    "name": "ipython",
    "version": 3
   },
   "file_extension": ".py",
   "mimetype": "text/x-python",
   "name": "python",
   "nbconvert_exporter": "python",
   "pygments_lexer": "ipython3",
   "version": "3.9.2"
  }
 },
 "nbformat": 4,
 "nbformat_minor": 5
}
